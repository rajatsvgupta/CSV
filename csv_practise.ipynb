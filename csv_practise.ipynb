{
 "cells": [
  {
   "cell_type": "markdown",
   "metadata": {},
   "source": [
    "Reading CSV file"
   ]
  },
  {
   "cell_type": "code",
   "execution_count": 1,
   "metadata": {
    "scrolled": true
   },
   "outputs": [
    {
     "name": "stdout",
     "output_type": "stream",
     "text": [
      "['first_name', 'last_name', 'email']\n",
      "['John', 'Doe', 'john-doe@bogusemail.com']\n",
      "['Mary', 'Smith-Robinson', 'maryjacobs@bogusemail.com']\n",
      "['Dave', 'Smith', 'davesmith@bogusemail.com']\n",
      "['Jane', 'Stuart', 'janestuart@bogusemail.com']\n",
      "['Tom', 'Wright', 'tomwright@bogusemail.com']\n",
      "['Steve', 'Robinson', 'steverobinson@bogusemail.com']\n",
      "['Nicole', 'Jacobs', 'nicolejacobs@bogusemail.com']\n",
      "['Jane', 'Wright', 'janewright@bogusemail.com']\n",
      "['Jane', 'Doe', 'janedoe@bogusemail.com']\n",
      "['Kurt', 'Wright', 'kurtwright@bogusemail.com']\n",
      "['Kurt', 'Robinson', 'kurtrobinson@bogusemail.com']\n",
      "['Jane', 'Jenkins', 'janejenkins@bogusemail.com']\n",
      "['Neil', 'Robinson', 'neilrobinson@bogusemail.com']\n",
      "['Tom', 'Patterson', 'tompatterson@bogusemail.com']\n",
      "['Sam', 'Jenkins', 'samjenkins@bogusemail.com']\n",
      "['Steve', 'Stuart', 'stevestuart@bogusemail.com']\n",
      "['Maggie', 'Patterson', 'maggiepatterson@bogusemail.com']\n",
      "['Maggie', 'Stuart', 'maggiestuart@bogusemail.com']\n",
      "['Jane', 'Doe', 'janedoe@bogusemail.com']\n",
      "['Steve', 'Patterson', 'stevepatterson@bogusemail.com']\n",
      "['Dave', 'Smith', 'davesmith@bogusemail.com']\n",
      "['Sam', 'Wilks', 'samwilks@bogusemail.com']\n",
      "['Kurt', 'Jefferson', 'kurtjefferson@bogusemail.com']\n",
      "['Sam', 'Stuart', 'samstuart@bogusemail.com']\n",
      "['Jane', 'Stuart', 'janestuart@bogusemail.com']\n",
      "['Dave', 'Davis', 'davedavis@bogusemail.com']\n",
      "['Sam', 'Patterson', 'sampatterson@bogusemail.com']\n",
      "['Tom', 'Jefferson', 'tomjefferson@bogusemail.com']\n",
      "['Jane', 'Stuart', 'janestuart@bogusemail.com']\n",
      "['Maggie', 'Jefferson', 'maggiejefferson@bogusemail.com']\n",
      "['Mary', 'Wilks', 'marywilks@bogusemail.com']\n",
      "['Neil', 'Patterson', 'neilpatterson@bogusemail.com']\n",
      "['Corey', 'Davis', 'coreydavis@bogusemail.com']\n",
      "['Steve', 'Jacobs', 'stevejacobs@bogusemail.com']\n",
      "['Jane', 'Jenkins', 'janejenkins@bogusemail.com']\n",
      "['John', 'Jacobs', 'johnjacobs@bogusemail.com']\n",
      "['Neil', 'Smith', 'neilsmith@bogusemail.com']\n",
      "['Corey', 'Wilks', 'coreywilks@bogusemail.com']\n",
      "['Corey', 'Smith', 'coreysmith@bogusemail.com']\n",
      "['Mary', 'Patterson', 'marypatterson@bogusemail.com']\n",
      "['Jane', 'Stuart', 'janestuart@bogusemail.com']\n",
      "['Travis', 'Arnold', 'travisarnold@bogusemail.com']\n",
      "['John', 'Robinson', 'johnrobinson@bogusemail.com']\n",
      "['Travis', 'Arnold', 'travisarnold@bogusemail.com']\n"
     ]
    }
   ],
   "source": [
    "import csv\n",
    "with open('book.csv','r') as new_file:\n",
    "    csv_reader=csv.reader(new_file)\n",
    "    for line in csv_reader:\n",
    "        print(line)"
   ]
  },
  {
   "cell_type": "markdown",
   "metadata": {},
   "source": [
    "from CSV file reading particular fieldheader "
   ]
  },
  {
   "cell_type": "code",
   "execution_count": 2,
   "metadata": {},
   "outputs": [
    {
     "name": "stdout",
     "output_type": "stream",
     "text": [
      "last_name\n",
      "Doe\n",
      "Smith-Robinson\n",
      "Smith\n",
      "Stuart\n",
      "Wright\n",
      "Robinson\n",
      "Jacobs\n",
      "Wright\n",
      "Doe\n",
      "Wright\n",
      "Robinson\n",
      "Jenkins\n",
      "Robinson\n",
      "Patterson\n",
      "Jenkins\n",
      "Stuart\n",
      "Patterson\n",
      "Stuart\n",
      "Doe\n",
      "Patterson\n",
      "Smith\n",
      "Wilks\n",
      "Jefferson\n",
      "Stuart\n",
      "Stuart\n",
      "Davis\n",
      "Patterson\n",
      "Jefferson\n",
      "Stuart\n",
      "Jefferson\n",
      "Wilks\n",
      "Patterson\n",
      "Davis\n",
      "Jacobs\n",
      "Jenkins\n",
      "Jacobs\n",
      "Smith\n",
      "Wilks\n",
      "Smith\n",
      "Patterson\n",
      "Stuart\n",
      "Arnold\n",
      "Robinson\n",
      "Arnold\n"
     ]
    }
   ],
   "source": [
    "import csv\n",
    "with open('book.csv','r') as new_file:\n",
    "    csv_reader=csv.reader(new_file)\n",
    "    for line in csv_reader:\n",
    "        print(line[1])"
   ]
  },
  {
   "cell_type": "code",
   "execution_count": 3,
   "metadata": {},
   "outputs": [
    {
     "name": "stdout",
     "output_type": "stream",
     "text": [
      "['John', 'Doe', 'john-doe@bogusemail.com']\n",
      "['Mary', 'Smith-Robinson', 'maryjacobs@bogusemail.com']\n",
      "['Dave', 'Smith', 'davesmith@bogusemail.com']\n",
      "['Jane', 'Stuart', 'janestuart@bogusemail.com']\n",
      "['Tom', 'Wright', 'tomwright@bogusemail.com']\n",
      "['Steve', 'Robinson', 'steverobinson@bogusemail.com']\n",
      "['Nicole', 'Jacobs', 'nicolejacobs@bogusemail.com']\n",
      "['Jane', 'Wright', 'janewright@bogusemail.com']\n",
      "['Jane', 'Doe', 'janedoe@bogusemail.com']\n",
      "['Kurt', 'Wright', 'kurtwright@bogusemail.com']\n",
      "['Kurt', 'Robinson', 'kurtrobinson@bogusemail.com']\n",
      "['Jane', 'Jenkins', 'janejenkins@bogusemail.com']\n",
      "['Neil', 'Robinson', 'neilrobinson@bogusemail.com']\n",
      "['Tom', 'Patterson', 'tompatterson@bogusemail.com']\n",
      "['Sam', 'Jenkins', 'samjenkins@bogusemail.com']\n",
      "['Steve', 'Stuart', 'stevestuart@bogusemail.com']\n",
      "['Maggie', 'Patterson', 'maggiepatterson@bogusemail.com']\n",
      "['Maggie', 'Stuart', 'maggiestuart@bogusemail.com']\n",
      "['Jane', 'Doe', 'janedoe@bogusemail.com']\n",
      "['Steve', 'Patterson', 'stevepatterson@bogusemail.com']\n",
      "['Dave', 'Smith', 'davesmith@bogusemail.com']\n",
      "['Sam', 'Wilks', 'samwilks@bogusemail.com']\n",
      "['Kurt', 'Jefferson', 'kurtjefferson@bogusemail.com']\n",
      "['Sam', 'Stuart', 'samstuart@bogusemail.com']\n",
      "['Jane', 'Stuart', 'janestuart@bogusemail.com']\n",
      "['Dave', 'Davis', 'davedavis@bogusemail.com']\n",
      "['Sam', 'Patterson', 'sampatterson@bogusemail.com']\n",
      "['Tom', 'Jefferson', 'tomjefferson@bogusemail.com']\n",
      "['Jane', 'Stuart', 'janestuart@bogusemail.com']\n",
      "['Maggie', 'Jefferson', 'maggiejefferson@bogusemail.com']\n",
      "['Mary', 'Wilks', 'marywilks@bogusemail.com']\n",
      "['Neil', 'Patterson', 'neilpatterson@bogusemail.com']\n",
      "['Corey', 'Davis', 'coreydavis@bogusemail.com']\n",
      "['Steve', 'Jacobs', 'stevejacobs@bogusemail.com']\n",
      "['Jane', 'Jenkins', 'janejenkins@bogusemail.com']\n",
      "['John', 'Jacobs', 'johnjacobs@bogusemail.com']\n",
      "['Neil', 'Smith', 'neilsmith@bogusemail.com']\n",
      "['Corey', 'Wilks', 'coreywilks@bogusemail.com']\n",
      "['Corey', 'Smith', 'coreysmith@bogusemail.com']\n",
      "['Mary', 'Patterson', 'marypatterson@bogusemail.com']\n",
      "['Jane', 'Stuart', 'janestuart@bogusemail.com']\n",
      "['Travis', 'Arnold', 'travisarnold@bogusemail.com']\n",
      "['John', 'Robinson', 'johnrobinson@bogusemail.com']\n",
      "['Travis', 'Arnold', 'travisarnold@bogusemail.com']\n"
     ]
    }
   ],
   "source": [
    "import csv\n",
    "with open('book.csv','r') as new_file:\n",
    "    csv_reader=csv.reader(new_file)\n",
    "    next (csv_reader)\n",
    "   \n",
    "    \n",
    "    for line in csv_reader:\n",
    "        print(line)"
   ]
  },
  {
   "cell_type": "markdown",
   "metadata": {},
   "source": [
    "copying csv with delimiter =',' (comma)"
   ]
  },
  {
   "cell_type": "code",
   "execution_count": 4,
   "metadata": {},
   "outputs": [],
   "source": [
    "import csv\n",
    "with open('book.csv','r') as new_file:\n",
    "    csv_reader=csv.reader(new_file)\n",
    "    with open (\"book_with_comma_delimeter.csv\",\"w\",newline='') as n:\n",
    "        csv_writer=csv.writer(n)\n",
    "        for line in csv_reader:\n",
    "            csv_writer.writerow(line)"
   ]
  },
  {
   "cell_type": "markdown",
   "metadata": {},
   "source": [
    "Reading CSV "
   ]
  },
  {
   "cell_type": "code",
   "execution_count": 5,
   "metadata": {},
   "outputs": [
    {
     "name": "stdout",
     "output_type": "stream",
     "text": [
      "['first_name', 'last_name', 'email']\n",
      "['John', 'Doe', 'john-doe@bogusemail.com']\n",
      "['Mary', 'Smith-Robinson', 'maryjacobs@bogusemail.com']\n",
      "['Dave', 'Smith', 'davesmith@bogusemail.com']\n",
      "['Jane', 'Stuart', 'janestuart@bogusemail.com']\n",
      "['Tom', 'Wright', 'tomwright@bogusemail.com']\n",
      "['Steve', 'Robinson', 'steverobinson@bogusemail.com']\n",
      "['Nicole', 'Jacobs', 'nicolejacobs@bogusemail.com']\n",
      "['Jane', 'Wright', 'janewright@bogusemail.com']\n",
      "['Jane', 'Doe', 'janedoe@bogusemail.com']\n",
      "['Kurt', 'Wright', 'kurtwright@bogusemail.com']\n",
      "['Kurt', 'Robinson', 'kurtrobinson@bogusemail.com']\n",
      "['Jane', 'Jenkins', 'janejenkins@bogusemail.com']\n",
      "['Neil', 'Robinson', 'neilrobinson@bogusemail.com']\n",
      "['Tom', 'Patterson', 'tompatterson@bogusemail.com']\n",
      "['Sam', 'Jenkins', 'samjenkins@bogusemail.com']\n",
      "['Steve', 'Stuart', 'stevestuart@bogusemail.com']\n",
      "['Maggie', 'Patterson', 'maggiepatterson@bogusemail.com']\n",
      "['Maggie', 'Stuart', 'maggiestuart@bogusemail.com']\n",
      "['Jane', 'Doe', 'janedoe@bogusemail.com']\n",
      "['Steve', 'Patterson', 'stevepatterson@bogusemail.com']\n",
      "['Dave', 'Smith', 'davesmith@bogusemail.com']\n",
      "['Sam', 'Wilks', 'samwilks@bogusemail.com']\n",
      "['Kurt', 'Jefferson', 'kurtjefferson@bogusemail.com']\n",
      "['Sam', 'Stuart', 'samstuart@bogusemail.com']\n",
      "['Jane', 'Stuart', 'janestuart@bogusemail.com']\n",
      "['Dave', 'Davis', 'davedavis@bogusemail.com']\n",
      "['Sam', 'Patterson', 'sampatterson@bogusemail.com']\n",
      "['Tom', 'Jefferson', 'tomjefferson@bogusemail.com']\n",
      "['Jane', 'Stuart', 'janestuart@bogusemail.com']\n",
      "['Maggie', 'Jefferson', 'maggiejefferson@bogusemail.com']\n",
      "['Mary', 'Wilks', 'marywilks@bogusemail.com']\n",
      "['Neil', 'Patterson', 'neilpatterson@bogusemail.com']\n",
      "['Corey', 'Davis', 'coreydavis@bogusemail.com']\n",
      "['Steve', 'Jacobs', 'stevejacobs@bogusemail.com']\n",
      "['Jane', 'Jenkins', 'janejenkins@bogusemail.com']\n",
      "['John', 'Jacobs', 'johnjacobs@bogusemail.com']\n",
      "['Neil', 'Smith', 'neilsmith@bogusemail.com']\n",
      "['Corey', 'Wilks', 'coreywilks@bogusemail.com']\n",
      "['Corey', 'Smith', 'coreysmith@bogusemail.com']\n",
      "['Mary', 'Patterson', 'marypatterson@bogusemail.com']\n",
      "['Jane', 'Stuart', 'janestuart@bogusemail.com']\n",
      "['Travis', 'Arnold', 'travisarnold@bogusemail.com']\n",
      "['John', 'Robinson', 'johnrobinson@bogusemail.com']\n",
      "['Travis', 'Arnold', 'travisarnold@bogusemail.com']\n"
     ]
    }
   ],
   "source": [
    "\n",
    "with open(\"book_with_comma_delimeter.csv\",'r') as new_file:\n",
    "    csv_reader=csv.reader(new_file)\n",
    "    for line in csv_reader:\n",
    "        print(line)"
   ]
  },
  {
   "cell_type": "markdown",
   "metadata": {},
   "source": [
    "copying csv with delimiter ='-'"
   ]
  },
  {
   "cell_type": "code",
   "execution_count": 6,
   "metadata": {},
   "outputs": [],
   "source": [
    "import csv\n",
    "with open('book.csv','r') as new_file:\n",
    "    csv_reader=csv.reader(new_file)\n",
    "    with open (\"book_with_dash_delimeter.csv\",\"w\",newline=\"\") as n:\n",
    "        csv_writer=csv.writer(n,delimiter=\"-\")\n",
    "        for line in csv_reader:\n",
    "            csv_writer.writerow(line)"
   ]
  },
  {
   "cell_type": "markdown",
   "metadata": {},
   "source": [
    "Reading dash separated file as commo seperated file"
   ]
  },
  {
   "cell_type": "code",
   "execution_count": 7,
   "metadata": {},
   "outputs": [
    {
     "name": "stdout",
     "output_type": "stream",
     "text": [
      "['first_name-last_name-email']\n",
      "['John-Doe-\"john-doe@bogusemail.com\"']\n",
      "['Mary-\"Smith-Robinson\"-maryjacobs@bogusemail.com']\n",
      "['Dave-Smith-davesmith@bogusemail.com']\n",
      "['Jane-Stuart-janestuart@bogusemail.com']\n",
      "['Tom-Wright-tomwright@bogusemail.com']\n",
      "['Steve-Robinson-steverobinson@bogusemail.com']\n",
      "['Nicole-Jacobs-nicolejacobs@bogusemail.com']\n",
      "['Jane-Wright-janewright@bogusemail.com']\n",
      "['Jane-Doe-janedoe@bogusemail.com']\n",
      "['Kurt-Wright-kurtwright@bogusemail.com']\n",
      "['Kurt-Robinson-kurtrobinson@bogusemail.com']\n",
      "['Jane-Jenkins-janejenkins@bogusemail.com']\n",
      "['Neil-Robinson-neilrobinson@bogusemail.com']\n",
      "['Tom-Patterson-tompatterson@bogusemail.com']\n",
      "['Sam-Jenkins-samjenkins@bogusemail.com']\n",
      "['Steve-Stuart-stevestuart@bogusemail.com']\n",
      "['Maggie-Patterson-maggiepatterson@bogusemail.com']\n",
      "['Maggie-Stuart-maggiestuart@bogusemail.com']\n",
      "['Jane-Doe-janedoe@bogusemail.com']\n",
      "['Steve-Patterson-stevepatterson@bogusemail.com']\n",
      "['Dave-Smith-davesmith@bogusemail.com']\n",
      "['Sam-Wilks-samwilks@bogusemail.com']\n",
      "['Kurt-Jefferson-kurtjefferson@bogusemail.com']\n",
      "['Sam-Stuart-samstuart@bogusemail.com']\n",
      "['Jane-Stuart-janestuart@bogusemail.com']\n",
      "['Dave-Davis-davedavis@bogusemail.com']\n",
      "['Sam-Patterson-sampatterson@bogusemail.com']\n",
      "['Tom-Jefferson-tomjefferson@bogusemail.com']\n",
      "['Jane-Stuart-janestuart@bogusemail.com']\n",
      "['Maggie-Jefferson-maggiejefferson@bogusemail.com']\n",
      "['Mary-Wilks-marywilks@bogusemail.com']\n",
      "['Neil-Patterson-neilpatterson@bogusemail.com']\n",
      "['Corey-Davis-coreydavis@bogusemail.com']\n",
      "['Steve-Jacobs-stevejacobs@bogusemail.com']\n",
      "['Jane-Jenkins-janejenkins@bogusemail.com']\n",
      "['John-Jacobs-johnjacobs@bogusemail.com']\n",
      "['Neil-Smith-neilsmith@bogusemail.com']\n",
      "['Corey-Wilks-coreywilks@bogusemail.com']\n",
      "['Corey-Smith-coreysmith@bogusemail.com']\n",
      "['Mary-Patterson-marypatterson@bogusemail.com']\n",
      "['Jane-Stuart-janestuart@bogusemail.com']\n",
      "['Travis-Arnold-travisarnold@bogusemail.com']\n",
      "['John-Robinson-johnrobinson@bogusemail.com']\n",
      "['Travis-Arnold-travisarnold@bogusemail.com']\n"
     ]
    }
   ],
   "source": [
    "\n",
    "with open(\"book_with_dash_delimeter.csv\",'r') as new_file:\n",
    "    csv_reader=csv.reader(new_file)\n",
    "    for line in csv_reader:\n",
    "        print(line)"
   ]
  },
  {
   "cell_type": "markdown",
   "metadata": {},
   "source": [
    "copying csv with delimiter ='\\t' (tab)"
   ]
  },
  {
   "cell_type": "code",
   "execution_count": 8,
   "metadata": {},
   "outputs": [],
   "source": [
    "import csv\n",
    "with open('book.csv','r') as new_file:\n",
    "    csv_reader=csv.reader(new_file)\n",
    "    with open (\"book_with_tab_delimeter.csv\",\"w\",newline='') as n:\n",
    "        csv_writer=csv.writer(n,delimiter=\"\\t\")\n",
    "        for line in csv_reader:\n",
    "            csv_writer.writerow(line)"
   ]
  },
  {
   "cell_type": "markdown",
   "metadata": {},
   "source": [
    "reading tab separated file  as \"-\" separated"
   ]
  },
  {
   "cell_type": "code",
   "execution_count": 9,
   "metadata": {},
   "outputs": [
    {
     "name": "stdout",
     "output_type": "stream",
     "text": [
      "['first_name\\tlast_name\\temail']\n",
      "['John\\tDoe\\tjohn', 'doe@bogusemail.com']\n",
      "['Mary\\tSmith', 'Robinson\\tmaryjacobs@bogusemail.com']\n",
      "['Dave\\tSmith\\tdavesmith@bogusemail.com']\n",
      "['Jane\\tStuart\\tjanestuart@bogusemail.com']\n",
      "['Tom\\tWright\\ttomwright@bogusemail.com']\n",
      "['Steve\\tRobinson\\tsteverobinson@bogusemail.com']\n",
      "['Nicole\\tJacobs\\tnicolejacobs@bogusemail.com']\n",
      "['Jane\\tWright\\tjanewright@bogusemail.com']\n",
      "['Jane\\tDoe\\tjanedoe@bogusemail.com']\n",
      "['Kurt\\tWright\\tkurtwright@bogusemail.com']\n",
      "['Kurt\\tRobinson\\tkurtrobinson@bogusemail.com']\n",
      "['Jane\\tJenkins\\tjanejenkins@bogusemail.com']\n",
      "['Neil\\tRobinson\\tneilrobinson@bogusemail.com']\n",
      "['Tom\\tPatterson\\ttompatterson@bogusemail.com']\n",
      "['Sam\\tJenkins\\tsamjenkins@bogusemail.com']\n",
      "['Steve\\tStuart\\tstevestuart@bogusemail.com']\n",
      "['Maggie\\tPatterson\\tmaggiepatterson@bogusemail.com']\n",
      "['Maggie\\tStuart\\tmaggiestuart@bogusemail.com']\n",
      "['Jane\\tDoe\\tjanedoe@bogusemail.com']\n",
      "['Steve\\tPatterson\\tstevepatterson@bogusemail.com']\n",
      "['Dave\\tSmith\\tdavesmith@bogusemail.com']\n",
      "['Sam\\tWilks\\tsamwilks@bogusemail.com']\n",
      "['Kurt\\tJefferson\\tkurtjefferson@bogusemail.com']\n",
      "['Sam\\tStuart\\tsamstuart@bogusemail.com']\n",
      "['Jane\\tStuart\\tjanestuart@bogusemail.com']\n",
      "['Dave\\tDavis\\tdavedavis@bogusemail.com']\n",
      "['Sam\\tPatterson\\tsampatterson@bogusemail.com']\n",
      "['Tom\\tJefferson\\ttomjefferson@bogusemail.com']\n",
      "['Jane\\tStuart\\tjanestuart@bogusemail.com']\n",
      "['Maggie\\tJefferson\\tmaggiejefferson@bogusemail.com']\n",
      "['Mary\\tWilks\\tmarywilks@bogusemail.com']\n",
      "['Neil\\tPatterson\\tneilpatterson@bogusemail.com']\n",
      "['Corey\\tDavis\\tcoreydavis@bogusemail.com']\n",
      "['Steve\\tJacobs\\tstevejacobs@bogusemail.com']\n",
      "['Jane\\tJenkins\\tjanejenkins@bogusemail.com']\n",
      "['John\\tJacobs\\tjohnjacobs@bogusemail.com']\n",
      "['Neil\\tSmith\\tneilsmith@bogusemail.com']\n",
      "['Corey\\tWilks\\tcoreywilks@bogusemail.com']\n",
      "['Corey\\tSmith\\tcoreysmith@bogusemail.com']\n",
      "['Mary\\tPatterson\\tmarypatterson@bogusemail.com']\n",
      "['Jane\\tStuart\\tjanestuart@bogusemail.com']\n",
      "['Travis\\tArnold\\ttravisarnold@bogusemail.com']\n",
      "['John\\tRobinson\\tjohnrobinson@bogusemail.com']\n",
      "['Travis\\tArnold\\ttravisarnold@bogusemail.com']\n"
     ]
    }
   ],
   "source": [
    "with open (\"book_with_tab_delimeter.csv\",\"r\") as n:\n",
    "    csv_reader=csv.reader(n,delimiter=\"-\")\n",
    "    for line in csv_reader:\n",
    "        print(line)"
   ]
  },
  {
   "cell_type": "markdown",
   "metadata": {},
   "source": [
    "reading tab separated file  as tab separated"
   ]
  },
  {
   "cell_type": "code",
   "execution_count": 10,
   "metadata": {},
   "outputs": [
    {
     "name": "stdout",
     "output_type": "stream",
     "text": [
      "['first_name', 'last_name', 'email']\n",
      "['John', 'Doe', 'john-doe@bogusemail.com']\n",
      "['Mary', 'Smith-Robinson', 'maryjacobs@bogusemail.com']\n",
      "['Dave', 'Smith', 'davesmith@bogusemail.com']\n",
      "['Jane', 'Stuart', 'janestuart@bogusemail.com']\n",
      "['Tom', 'Wright', 'tomwright@bogusemail.com']\n",
      "['Steve', 'Robinson', 'steverobinson@bogusemail.com']\n",
      "['Nicole', 'Jacobs', 'nicolejacobs@bogusemail.com']\n",
      "['Jane', 'Wright', 'janewright@bogusemail.com']\n",
      "['Jane', 'Doe', 'janedoe@bogusemail.com']\n",
      "['Kurt', 'Wright', 'kurtwright@bogusemail.com']\n",
      "['Kurt', 'Robinson', 'kurtrobinson@bogusemail.com']\n",
      "['Jane', 'Jenkins', 'janejenkins@bogusemail.com']\n",
      "['Neil', 'Robinson', 'neilrobinson@bogusemail.com']\n",
      "['Tom', 'Patterson', 'tompatterson@bogusemail.com']\n",
      "['Sam', 'Jenkins', 'samjenkins@bogusemail.com']\n",
      "['Steve', 'Stuart', 'stevestuart@bogusemail.com']\n",
      "['Maggie', 'Patterson', 'maggiepatterson@bogusemail.com']\n",
      "['Maggie', 'Stuart', 'maggiestuart@bogusemail.com']\n",
      "['Jane', 'Doe', 'janedoe@bogusemail.com']\n",
      "['Steve', 'Patterson', 'stevepatterson@bogusemail.com']\n",
      "['Dave', 'Smith', 'davesmith@bogusemail.com']\n",
      "['Sam', 'Wilks', 'samwilks@bogusemail.com']\n",
      "['Kurt', 'Jefferson', 'kurtjefferson@bogusemail.com']\n",
      "['Sam', 'Stuart', 'samstuart@bogusemail.com']\n",
      "['Jane', 'Stuart', 'janestuart@bogusemail.com']\n",
      "['Dave', 'Davis', 'davedavis@bogusemail.com']\n",
      "['Sam', 'Patterson', 'sampatterson@bogusemail.com']\n",
      "['Tom', 'Jefferson', 'tomjefferson@bogusemail.com']\n",
      "['Jane', 'Stuart', 'janestuart@bogusemail.com']\n",
      "['Maggie', 'Jefferson', 'maggiejefferson@bogusemail.com']\n",
      "['Mary', 'Wilks', 'marywilks@bogusemail.com']\n",
      "['Neil', 'Patterson', 'neilpatterson@bogusemail.com']\n",
      "['Corey', 'Davis', 'coreydavis@bogusemail.com']\n",
      "['Steve', 'Jacobs', 'stevejacobs@bogusemail.com']\n",
      "['Jane', 'Jenkins', 'janejenkins@bogusemail.com']\n",
      "['John', 'Jacobs', 'johnjacobs@bogusemail.com']\n",
      "['Neil', 'Smith', 'neilsmith@bogusemail.com']\n",
      "['Corey', 'Wilks', 'coreywilks@bogusemail.com']\n",
      "['Corey', 'Smith', 'coreysmith@bogusemail.com']\n",
      "['Mary', 'Patterson', 'marypatterson@bogusemail.com']\n",
      "['Jane', 'Stuart', 'janestuart@bogusemail.com']\n",
      "['Travis', 'Arnold', 'travisarnold@bogusemail.com']\n",
      "['John', 'Robinson', 'johnrobinson@bogusemail.com']\n",
      "['Travis', 'Arnold', 'travisarnold@bogusemail.com']\n"
     ]
    }
   ],
   "source": [
    "with open (\"book_with_tab_delimeter.csv\",\"r\") as n:\n",
    "    csv_reader=csv.reader(n,delimiter=\"\\t\")\n",
    "    for line in csv_reader:\n",
    "        print(line)"
   ]
  },
  {
   "cell_type": "markdown",
   "metadata": {},
   "source": [
    "reading comma separated file  as \"-\" separated"
   ]
  },
  {
   "cell_type": "code",
   "execution_count": 11,
   "metadata": {},
   "outputs": [
    {
     "name": "stdout",
     "output_type": "stream",
     "text": [
      "['first_name,last_name,email']\n",
      "['John,Doe,john-doe@bogusemail.com']\n",
      "['Mary,Smith-Robinson,maryjacobs@bogusemail.com']\n",
      "['Dave,Smith,davesmith@bogusemail.com']\n",
      "['Jane,Stuart,janestuart@bogusemail.com']\n",
      "['Tom,Wright,tomwright@bogusemail.com']\n",
      "['Steve,Robinson,steverobinson@bogusemail.com']\n",
      "['Nicole,Jacobs,nicolejacobs@bogusemail.com']\n",
      "['Jane,Wright,janewright@bogusemail.com']\n",
      "['Jane,Doe,janedoe@bogusemail.com']\n",
      "['Kurt,Wright,kurtwright@bogusemail.com']\n",
      "['Kurt,Robinson,kurtrobinson@bogusemail.com']\n",
      "['Jane,Jenkins,janejenkins@bogusemail.com']\n",
      "['Neil,Robinson,neilrobinson@bogusemail.com']\n",
      "['Tom,Patterson,tompatterson@bogusemail.com']\n",
      "['Sam,Jenkins,samjenkins@bogusemail.com']\n",
      "['Steve,Stuart,stevestuart@bogusemail.com']\n",
      "['Maggie,Patterson,maggiepatterson@bogusemail.com']\n",
      "['Maggie,Stuart,maggiestuart@bogusemail.com']\n",
      "['Jane,Doe,janedoe@bogusemail.com']\n",
      "['Steve,Patterson,stevepatterson@bogusemail.com']\n",
      "['Dave,Smith,davesmith@bogusemail.com']\n",
      "['Sam,Wilks,samwilks@bogusemail.com']\n",
      "['Kurt,Jefferson,kurtjefferson@bogusemail.com']\n",
      "['Sam,Stuart,samstuart@bogusemail.com']\n",
      "['Jane,Stuart,janestuart@bogusemail.com']\n",
      "['Dave,Davis,davedavis@bogusemail.com']\n",
      "['Sam,Patterson,sampatterson@bogusemail.com']\n",
      "['Tom,Jefferson,tomjefferson@bogusemail.com']\n",
      "['Jane,Stuart,janestuart@bogusemail.com']\n",
      "['Maggie,Jefferson,maggiejefferson@bogusemail.com']\n",
      "['Mary,Wilks,marywilks@bogusemail.com']\n",
      "['Neil,Patterson,neilpatterson@bogusemail.com']\n",
      "['Corey,Davis,coreydavis@bogusemail.com']\n",
      "['Steve,Jacobs,stevejacobs@bogusemail.com']\n",
      "['Jane,Jenkins,janejenkins@bogusemail.com']\n",
      "['John,Jacobs,johnjacobs@bogusemail.com']\n",
      "['Neil,Smith,neilsmith@bogusemail.com']\n",
      "['Corey,Wilks,coreywilks@bogusemail.com']\n",
      "['Corey,Smith,coreysmith@bogusemail.com']\n",
      "['Mary,Patterson,marypatterson@bogusemail.com']\n",
      "['Jane,Stuart,janestuart@bogusemail.com']\n",
      "['Travis,Arnold,travisarnold@bogusemail.com']\n",
      "['John,Robinson,johnrobinson@bogusemail.com']\n",
      "['Travis,Arnold,travisarnold@bogusemail.com']\n"
     ]
    }
   ],
   "source": [
    "with open (\"book.csv\",\"r\") as n:\n",
    "    csv_reader=csv.reader(n,delimiter='\\t')\n",
    "    for line in csv_reader:\n",
    "        print(line)"
   ]
  },
  {
   "cell_type": "markdown",
   "metadata": {},
   "source": [
    "Reading csv file using Dict reader "
   ]
  },
  {
   "cell_type": "code",
   "execution_count": 12,
   "metadata": {},
   "outputs": [
    {
     "name": "stdout",
     "output_type": "stream",
     "text": [
      "{'first_name': 'John', 'last_name': 'Doe', 'email': 'john-doe@bogusemail.com'}\n",
      "{'first_name': 'Mary', 'last_name': 'Smith-Robinson', 'email': 'maryjacobs@bogusemail.com'}\n",
      "{'first_name': 'Dave', 'last_name': 'Smith', 'email': 'davesmith@bogusemail.com'}\n",
      "{'first_name': 'Jane', 'last_name': 'Stuart', 'email': 'janestuart@bogusemail.com'}\n",
      "{'first_name': 'Tom', 'last_name': 'Wright', 'email': 'tomwright@bogusemail.com'}\n",
      "{'first_name': 'Steve', 'last_name': 'Robinson', 'email': 'steverobinson@bogusemail.com'}\n",
      "{'first_name': 'Nicole', 'last_name': 'Jacobs', 'email': 'nicolejacobs@bogusemail.com'}\n",
      "{'first_name': 'Jane', 'last_name': 'Wright', 'email': 'janewright@bogusemail.com'}\n",
      "{'first_name': 'Jane', 'last_name': 'Doe', 'email': 'janedoe@bogusemail.com'}\n",
      "{'first_name': 'Kurt', 'last_name': 'Wright', 'email': 'kurtwright@bogusemail.com'}\n",
      "{'first_name': 'Kurt', 'last_name': 'Robinson', 'email': 'kurtrobinson@bogusemail.com'}\n",
      "{'first_name': 'Jane', 'last_name': 'Jenkins', 'email': 'janejenkins@bogusemail.com'}\n",
      "{'first_name': 'Neil', 'last_name': 'Robinson', 'email': 'neilrobinson@bogusemail.com'}\n",
      "{'first_name': 'Tom', 'last_name': 'Patterson', 'email': 'tompatterson@bogusemail.com'}\n",
      "{'first_name': 'Sam', 'last_name': 'Jenkins', 'email': 'samjenkins@bogusemail.com'}\n",
      "{'first_name': 'Steve', 'last_name': 'Stuart', 'email': 'stevestuart@bogusemail.com'}\n",
      "{'first_name': 'Maggie', 'last_name': 'Patterson', 'email': 'maggiepatterson@bogusemail.com'}\n",
      "{'first_name': 'Maggie', 'last_name': 'Stuart', 'email': 'maggiestuart@bogusemail.com'}\n",
      "{'first_name': 'Jane', 'last_name': 'Doe', 'email': 'janedoe@bogusemail.com'}\n",
      "{'first_name': 'Steve', 'last_name': 'Patterson', 'email': 'stevepatterson@bogusemail.com'}\n",
      "{'first_name': 'Dave', 'last_name': 'Smith', 'email': 'davesmith@bogusemail.com'}\n",
      "{'first_name': 'Sam', 'last_name': 'Wilks', 'email': 'samwilks@bogusemail.com'}\n",
      "{'first_name': 'Kurt', 'last_name': 'Jefferson', 'email': 'kurtjefferson@bogusemail.com'}\n",
      "{'first_name': 'Sam', 'last_name': 'Stuart', 'email': 'samstuart@bogusemail.com'}\n",
      "{'first_name': 'Jane', 'last_name': 'Stuart', 'email': 'janestuart@bogusemail.com'}\n",
      "{'first_name': 'Dave', 'last_name': 'Davis', 'email': 'davedavis@bogusemail.com'}\n",
      "{'first_name': 'Sam', 'last_name': 'Patterson', 'email': 'sampatterson@bogusemail.com'}\n",
      "{'first_name': 'Tom', 'last_name': 'Jefferson', 'email': 'tomjefferson@bogusemail.com'}\n",
      "{'first_name': 'Jane', 'last_name': 'Stuart', 'email': 'janestuart@bogusemail.com'}\n",
      "{'first_name': 'Maggie', 'last_name': 'Jefferson', 'email': 'maggiejefferson@bogusemail.com'}\n",
      "{'first_name': 'Mary', 'last_name': 'Wilks', 'email': 'marywilks@bogusemail.com'}\n",
      "{'first_name': 'Neil', 'last_name': 'Patterson', 'email': 'neilpatterson@bogusemail.com'}\n",
      "{'first_name': 'Corey', 'last_name': 'Davis', 'email': 'coreydavis@bogusemail.com'}\n",
      "{'first_name': 'Steve', 'last_name': 'Jacobs', 'email': 'stevejacobs@bogusemail.com'}\n",
      "{'first_name': 'Jane', 'last_name': 'Jenkins', 'email': 'janejenkins@bogusemail.com'}\n",
      "{'first_name': 'John', 'last_name': 'Jacobs', 'email': 'johnjacobs@bogusemail.com'}\n",
      "{'first_name': 'Neil', 'last_name': 'Smith', 'email': 'neilsmith@bogusemail.com'}\n",
      "{'first_name': 'Corey', 'last_name': 'Wilks', 'email': 'coreywilks@bogusemail.com'}\n",
      "{'first_name': 'Corey', 'last_name': 'Smith', 'email': 'coreysmith@bogusemail.com'}\n",
      "{'first_name': 'Mary', 'last_name': 'Patterson', 'email': 'marypatterson@bogusemail.com'}\n",
      "{'first_name': 'Jane', 'last_name': 'Stuart', 'email': 'janestuart@bogusemail.com'}\n",
      "{'first_name': 'Travis', 'last_name': 'Arnold', 'email': 'travisarnold@bogusemail.com'}\n",
      "{'first_name': 'John', 'last_name': 'Robinson', 'email': 'johnrobinson@bogusemail.com'}\n",
      "{'first_name': 'Travis', 'last_name': 'Arnold', 'email': 'travisarnold@bogusemail.com'}\n"
     ]
    }
   ],
   "source": [
    "with open (\"Book.csv\",\"r\") as n:\n",
    "    csv_reader=csv.DictReader(n)\n",
    "    for line in csv_reader:\n",
    "        print(line)"
   ]
  },
  {
   "cell_type": "code",
   "execution_count": 13,
   "metadata": {},
   "outputs": [
    {
     "name": "stdout",
     "output_type": "stream",
     "text": [
      "john-doe@bogusemail.com\n",
      "maryjacobs@bogusemail.com\n",
      "davesmith@bogusemail.com\n",
      "janestuart@bogusemail.com\n",
      "tomwright@bogusemail.com\n",
      "steverobinson@bogusemail.com\n",
      "nicolejacobs@bogusemail.com\n",
      "janewright@bogusemail.com\n",
      "janedoe@bogusemail.com\n",
      "kurtwright@bogusemail.com\n",
      "kurtrobinson@bogusemail.com\n",
      "janejenkins@bogusemail.com\n",
      "neilrobinson@bogusemail.com\n",
      "tompatterson@bogusemail.com\n",
      "samjenkins@bogusemail.com\n",
      "stevestuart@bogusemail.com\n",
      "maggiepatterson@bogusemail.com\n",
      "maggiestuart@bogusemail.com\n",
      "janedoe@bogusemail.com\n",
      "stevepatterson@bogusemail.com\n",
      "davesmith@bogusemail.com\n",
      "samwilks@bogusemail.com\n",
      "kurtjefferson@bogusemail.com\n",
      "samstuart@bogusemail.com\n",
      "janestuart@bogusemail.com\n",
      "davedavis@bogusemail.com\n",
      "sampatterson@bogusemail.com\n",
      "tomjefferson@bogusemail.com\n",
      "janestuart@bogusemail.com\n",
      "maggiejefferson@bogusemail.com\n",
      "marywilks@bogusemail.com\n",
      "neilpatterson@bogusemail.com\n",
      "coreydavis@bogusemail.com\n",
      "stevejacobs@bogusemail.com\n",
      "janejenkins@bogusemail.com\n",
      "johnjacobs@bogusemail.com\n",
      "neilsmith@bogusemail.com\n",
      "coreywilks@bogusemail.com\n",
      "coreysmith@bogusemail.com\n",
      "marypatterson@bogusemail.com\n",
      "janestuart@bogusemail.com\n",
      "travisarnold@bogusemail.com\n",
      "johnrobinson@bogusemail.com\n",
      "travisarnold@bogusemail.com\n"
     ]
    }
   ],
   "source": [
    "with open (\"Book.csv\",\"r\") as n:\n",
    "    csv_reader=csv.DictReader(n)\n",
    "    for line in csv_reader:\n",
    "        print(line['email'])"
   ]
  },
  {
   "cell_type": "markdown",
   "metadata": {},
   "source": [
    "copying csv using DictReader"
   ]
  },
  {
   "cell_type": "code",
   "execution_count": 14,
   "metadata": {},
   "outputs": [],
   "source": [
    "with open (\"book.csv\",\"r\") as n:\n",
    "    csv_reader=csv.DictReader(n)\n",
    "    with open (\"writing_using_DictReader.csv\",'w',newline='') as w:\n",
    "        fieldnames=[\"first_name\",\"last_name\",\"email\"]\n",
    "        csv_writer=csv.DictWriter(w,fieldnames=fieldnames)\n",
    "        csv_writer.writeheader()\n",
    "        for line in csv_reader:\n",
    "            csv_writer.writerow(line)"
   ]
  },
  {
   "cell_type": "code",
   "execution_count": 15,
   "metadata": {},
   "outputs": [
    {
     "name": "stdout",
     "output_type": "stream",
     "text": [
      "{'first_name': 'John', 'last_name': 'Doe', 'email': 'john-doe@bogusemail.com'}\n",
      "{'first_name': 'Mary', 'last_name': 'Smith-Robinson', 'email': 'maryjacobs@bogusemail.com'}\n",
      "{'first_name': 'Dave', 'last_name': 'Smith', 'email': 'davesmith@bogusemail.com'}\n",
      "{'first_name': 'Jane', 'last_name': 'Stuart', 'email': 'janestuart@bogusemail.com'}\n",
      "{'first_name': 'Tom', 'last_name': 'Wright', 'email': 'tomwright@bogusemail.com'}\n",
      "{'first_name': 'Steve', 'last_name': 'Robinson', 'email': 'steverobinson@bogusemail.com'}\n",
      "{'first_name': 'Nicole', 'last_name': 'Jacobs', 'email': 'nicolejacobs@bogusemail.com'}\n",
      "{'first_name': 'Jane', 'last_name': 'Wright', 'email': 'janewright@bogusemail.com'}\n",
      "{'first_name': 'Jane', 'last_name': 'Doe', 'email': 'janedoe@bogusemail.com'}\n",
      "{'first_name': 'Kurt', 'last_name': 'Wright', 'email': 'kurtwright@bogusemail.com'}\n",
      "{'first_name': 'Kurt', 'last_name': 'Robinson', 'email': 'kurtrobinson@bogusemail.com'}\n",
      "{'first_name': 'Jane', 'last_name': 'Jenkins', 'email': 'janejenkins@bogusemail.com'}\n",
      "{'first_name': 'Neil', 'last_name': 'Robinson', 'email': 'neilrobinson@bogusemail.com'}\n",
      "{'first_name': 'Tom', 'last_name': 'Patterson', 'email': 'tompatterson@bogusemail.com'}\n",
      "{'first_name': 'Sam', 'last_name': 'Jenkins', 'email': 'samjenkins@bogusemail.com'}\n",
      "{'first_name': 'Steve', 'last_name': 'Stuart', 'email': 'stevestuart@bogusemail.com'}\n",
      "{'first_name': 'Maggie', 'last_name': 'Patterson', 'email': 'maggiepatterson@bogusemail.com'}\n",
      "{'first_name': 'Maggie', 'last_name': 'Stuart', 'email': 'maggiestuart@bogusemail.com'}\n",
      "{'first_name': 'Jane', 'last_name': 'Doe', 'email': 'janedoe@bogusemail.com'}\n",
      "{'first_name': 'Steve', 'last_name': 'Patterson', 'email': 'stevepatterson@bogusemail.com'}\n",
      "{'first_name': 'Dave', 'last_name': 'Smith', 'email': 'davesmith@bogusemail.com'}\n",
      "{'first_name': 'Sam', 'last_name': 'Wilks', 'email': 'samwilks@bogusemail.com'}\n",
      "{'first_name': 'Kurt', 'last_name': 'Jefferson', 'email': 'kurtjefferson@bogusemail.com'}\n",
      "{'first_name': 'Sam', 'last_name': 'Stuart', 'email': 'samstuart@bogusemail.com'}\n",
      "{'first_name': 'Jane', 'last_name': 'Stuart', 'email': 'janestuart@bogusemail.com'}\n",
      "{'first_name': 'Dave', 'last_name': 'Davis', 'email': 'davedavis@bogusemail.com'}\n",
      "{'first_name': 'Sam', 'last_name': 'Patterson', 'email': 'sampatterson@bogusemail.com'}\n",
      "{'first_name': 'Tom', 'last_name': 'Jefferson', 'email': 'tomjefferson@bogusemail.com'}\n",
      "{'first_name': 'Jane', 'last_name': 'Stuart', 'email': 'janestuart@bogusemail.com'}\n",
      "{'first_name': 'Maggie', 'last_name': 'Jefferson', 'email': 'maggiejefferson@bogusemail.com'}\n",
      "{'first_name': 'Mary', 'last_name': 'Wilks', 'email': 'marywilks@bogusemail.com'}\n",
      "{'first_name': 'Neil', 'last_name': 'Patterson', 'email': 'neilpatterson@bogusemail.com'}\n",
      "{'first_name': 'Corey', 'last_name': 'Davis', 'email': 'coreydavis@bogusemail.com'}\n",
      "{'first_name': 'Steve', 'last_name': 'Jacobs', 'email': 'stevejacobs@bogusemail.com'}\n",
      "{'first_name': 'Jane', 'last_name': 'Jenkins', 'email': 'janejenkins@bogusemail.com'}\n",
      "{'first_name': 'John', 'last_name': 'Jacobs', 'email': 'johnjacobs@bogusemail.com'}\n",
      "{'first_name': 'Neil', 'last_name': 'Smith', 'email': 'neilsmith@bogusemail.com'}\n",
      "{'first_name': 'Corey', 'last_name': 'Wilks', 'email': 'coreywilks@bogusemail.com'}\n",
      "{'first_name': 'Corey', 'last_name': 'Smith', 'email': 'coreysmith@bogusemail.com'}\n",
      "{'first_name': 'Mary', 'last_name': 'Patterson', 'email': 'marypatterson@bogusemail.com'}\n",
      "{'first_name': 'Jane', 'last_name': 'Stuart', 'email': 'janestuart@bogusemail.com'}\n",
      "{'first_name': 'Travis', 'last_name': 'Arnold', 'email': 'travisarnold@bogusemail.com'}\n",
      "{'first_name': 'John', 'last_name': 'Robinson', 'email': 'johnrobinson@bogusemail.com'}\n",
      "{'first_name': 'Travis', 'last_name': 'Arnold', 'email': 'travisarnold@bogusemail.com'}\n"
     ]
    }
   ],
   "source": [
    " with open (\"writing_using_DictReader.csv\",'r') as w:\n",
    "        csv_reader=csv.DictReader(w)\n",
    "        for line in csv_reader:\n",
    "             print(line)"
   ]
  },
  {
   "cell_type": "markdown",
   "metadata": {},
   "source": [
    "\"droping a column\""
   ]
  },
  {
   "cell_type": "code",
   "execution_count": 16,
   "metadata": {},
   "outputs": [],
   "source": [
    "with open(\"book.csv\",\"r\") as f:\n",
    "    x=csv.DictReader(f)\n",
    "    with open(\"writing_using_DictReader_with_removing_email.csv\",\"w\",newline='') as g:\n",
    "        fieldnames=[\"first_name\",\"last_name\"]\n",
    "        y=csv.DictWriter(g,fieldnames=fieldnames)\n",
    "        y.writeheader()\n",
    "        for line in x:\n",
    "            del line[\"email\"]\n",
    "            y.writerow(line)\n",
    "            \n",
    "        \n",
    "        \n",
    "    "
   ]
  },
  {
   "cell_type": "code",
   "execution_count": 17,
   "metadata": {
    "scrolled": true
   },
   "outputs": [
    {
     "name": "stdout",
     "output_type": "stream",
     "text": [
      "{'first_name': 'John', 'last_name': 'Doe'}\n",
      "{'first_name': 'Mary', 'last_name': 'Smith-Robinson'}\n",
      "{'first_name': 'Dave', 'last_name': 'Smith'}\n",
      "{'first_name': 'Jane', 'last_name': 'Stuart'}\n",
      "{'first_name': 'Tom', 'last_name': 'Wright'}\n",
      "{'first_name': 'Steve', 'last_name': 'Robinson'}\n",
      "{'first_name': 'Nicole', 'last_name': 'Jacobs'}\n",
      "{'first_name': 'Jane', 'last_name': 'Wright'}\n",
      "{'first_name': 'Jane', 'last_name': 'Doe'}\n",
      "{'first_name': 'Kurt', 'last_name': 'Wright'}\n",
      "{'first_name': 'Kurt', 'last_name': 'Robinson'}\n",
      "{'first_name': 'Jane', 'last_name': 'Jenkins'}\n",
      "{'first_name': 'Neil', 'last_name': 'Robinson'}\n",
      "{'first_name': 'Tom', 'last_name': 'Patterson'}\n",
      "{'first_name': 'Sam', 'last_name': 'Jenkins'}\n",
      "{'first_name': 'Steve', 'last_name': 'Stuart'}\n",
      "{'first_name': 'Maggie', 'last_name': 'Patterson'}\n",
      "{'first_name': 'Maggie', 'last_name': 'Stuart'}\n",
      "{'first_name': 'Jane', 'last_name': 'Doe'}\n",
      "{'first_name': 'Steve', 'last_name': 'Patterson'}\n",
      "{'first_name': 'Dave', 'last_name': 'Smith'}\n",
      "{'first_name': 'Sam', 'last_name': 'Wilks'}\n",
      "{'first_name': 'Kurt', 'last_name': 'Jefferson'}\n",
      "{'first_name': 'Sam', 'last_name': 'Stuart'}\n",
      "{'first_name': 'Jane', 'last_name': 'Stuart'}\n",
      "{'first_name': 'Dave', 'last_name': 'Davis'}\n",
      "{'first_name': 'Sam', 'last_name': 'Patterson'}\n",
      "{'first_name': 'Tom', 'last_name': 'Jefferson'}\n",
      "{'first_name': 'Jane', 'last_name': 'Stuart'}\n",
      "{'first_name': 'Maggie', 'last_name': 'Jefferson'}\n",
      "{'first_name': 'Mary', 'last_name': 'Wilks'}\n",
      "{'first_name': 'Neil', 'last_name': 'Patterson'}\n",
      "{'first_name': 'Corey', 'last_name': 'Davis'}\n",
      "{'first_name': 'Steve', 'last_name': 'Jacobs'}\n",
      "{'first_name': 'Jane', 'last_name': 'Jenkins'}\n",
      "{'first_name': 'John', 'last_name': 'Jacobs'}\n",
      "{'first_name': 'Neil', 'last_name': 'Smith'}\n",
      "{'first_name': 'Corey', 'last_name': 'Wilks'}\n",
      "{'first_name': 'Corey', 'last_name': 'Smith'}\n",
      "{'first_name': 'Mary', 'last_name': 'Patterson'}\n",
      "{'first_name': 'Jane', 'last_name': 'Stuart'}\n",
      "{'first_name': 'Travis', 'last_name': 'Arnold'}\n",
      "{'first_name': 'John', 'last_name': 'Robinson'}\n",
      "{'first_name': 'Travis', 'last_name': 'Arnold'}\n"
     ]
    }
   ],
   "source": [
    " with open (\"writing_using_DictReader_with_removing_email.csv\",'r') as w:\n",
    "        csv_reader=csv.DictReader(w)\n",
    "        for line in csv_reader:\n",
    "             print(line)"
   ]
  },
  {
   "cell_type": "code",
   "execution_count": null,
   "metadata": {},
   "outputs": [],
   "source": []
  }
 ],
 "metadata": {
  "kernelspec": {
   "display_name": "Python 3",
   "language": "python",
   "name": "python3"
  },
  "language_info": {
   "codemirror_mode": {
    "name": "ipython",
    "version": 3
   },
   "file_extension": ".py",
   "mimetype": "text/x-python",
   "name": "python",
   "nbconvert_exporter": "python",
   "pygments_lexer": "ipython3",
   "version": "3.8.5"
  }
 },
 "nbformat": 4,
 "nbformat_minor": 2
}
